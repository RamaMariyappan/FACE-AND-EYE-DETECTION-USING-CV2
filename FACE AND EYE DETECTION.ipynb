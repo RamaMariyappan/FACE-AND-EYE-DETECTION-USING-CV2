{
 "cells": [
  {
   "cell_type": "code",
   "execution_count": 1,
   "id": "8dcf16f7",
   "metadata": {},
   "outputs": [],
   "source": [
    "import cv2\n",
    "\n",
    "face_detector = cv2.CascadeClassifier('C:\\\\users\\\\ram\\\\appdata\\\\local\\\\programs\\\\python\\\\python311\\\\lib\\\\site-packages\\\\cv2\\data\\\\haarcascade_frontalface_default.xml')\n",
    "eye_detector = cv2.CascadeClassifier('C:\\\\users\\\\ram\\\\appdata\\\\local\\\\programs\\\\python\\\\python311\\\\lib\\\\site-packages\\\\cv2\\data\\\\haarcascade_eye.xml')\n",
    "\n",
    "\n",
    "cam = cv2.VideoCapture(0)\n",
    "\n",
    "ret = True\n",
    "\n",
    "while ret:\n",
    "    ret, frame = cam.read()\n",
    "\n",
    "    if ret == True:\n",
    "        gray = cv2.cvtColor(frame, cv2.COLOR_BGR2GRAY)\n",
    "        face_points = face_detector.detectMultiScale(gray, 1.3, 5)\n",
    "        for (x, y, w, h) in face_points:\n",
    "            cv2.rectangle(frame, (x, y), (x+w, y+h), (255, 0, 20), 2)\n",
    "        \n",
    "            face = frame[y:y+h,x:x+w]\n",
    "            eyes = eye_detector.detectMultiScale(face,1.3,5)\n",
    "            for (x, y, w, h) in eyes:\n",
    "                cv2.rectangle(face, (x, y), (x+w, y+h), (155, 0, 120), 2)\n",
    "\n",
    "        cv2.imshow('Live feed', frame)\n",
    "\n",
    "    if cv2.waitKey(1) == 27:\n",
    "        break\n",
    "\n",
    "cam.release()\n",
    "cv2.destroyAllWindows()"
   ]
  },
  {
   "cell_type": "code",
   "execution_count": null,
   "id": "387d73fb",
   "metadata": {},
   "outputs": [],
   "source": []
  },
  {
   "cell_type": "code",
   "execution_count": null,
   "id": "6beb1190",
   "metadata": {},
   "outputs": [],
   "source": []
  },
  {
   "cell_type": "code",
   "execution_count": null,
   "id": "a74988b0",
   "metadata": {},
   "outputs": [],
   "source": []
  },
  {
   "cell_type": "code",
   "execution_count": null,
   "id": "abc03b18",
   "metadata": {},
   "outputs": [],
   "source": []
  },
  {
   "cell_type": "code",
   "execution_count": null,
   "id": "c7115095",
   "metadata": {},
   "outputs": [],
   "source": []
  },
  {
   "cell_type": "code",
   "execution_count": null,
   "id": "b879ba4d",
   "metadata": {},
   "outputs": [],
   "source": []
  }
 ],
 "metadata": {
  "kernelspec": {
   "display_name": "Python 3 (ipykernel)",
   "language": "python",
   "name": "python3"
  },
  "language_info": {
   "codemirror_mode": {
    "name": "ipython",
    "version": 3
   },
   "file_extension": ".py",
   "mimetype": "text/x-python",
   "name": "python",
   "nbconvert_exporter": "python",
   "pygments_lexer": "ipython3",
   "version": "3.11.2"
  }
 },
 "nbformat": 4,
 "nbformat_minor": 5
}
